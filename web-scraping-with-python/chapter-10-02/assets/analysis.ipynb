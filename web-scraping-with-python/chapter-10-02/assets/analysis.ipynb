{
  "cells": [
    {
      "cell_type": "markdown",
      "metadata": {},
      "source": [
        "In this section, we will be reading data from the bookdetails.csv file and conducting analysis and visualization using the file's data. Let's import the libraries that are required, that is, pandas and matplotlib.pyplot. We will be using the  pd and plt aliases, respectively, and reading the data from the file:"
      ]
    },
    {
      "cell_type": "code",
      "metadata": {},
      "source": [
        "import pandas as pd\n",
        "%matplotlib notebook\n",
        "import matplotlib.pyplot as plt\n",
        "\n",
        "dataSet = pd.read_csv('bookdetails.csv') #loads the file content as dataframe.\n",
        "\n",
        "print(type(dataSet)) #<class 'pandas.core.frame.DataFrame'>"
      ],
      "outputs": [],
      "execution_count": null
    },
    {
      "cell_type": "markdown",
      "metadata": {},
      "source": [
        "As we can see, the read_csv() function reads the content from a CSV file and generates a DataFrame object. pandas also supports various data files via the use of functions such as read_html(), read_excel(), read_json(), and read_sql_table().\n",
        "\n",
        "Here, dataSet is an object of the pandas DataFrame. The DataFrame represents a two-dimensional tabular structure with rows, columns, and indexes. Query-level analysis, conditional statements, filtering, grouping, and more are supported by DataFrames against data in rows and columns:"
      ]
    },
    {
      "cell_type": "code",
      "metadata": {},
      "source": [
        "print(dataSet)\n"
      ],
      "outputs": [],
      "execution_count": null
    },
    {
      "cell_type": "markdown",
      "metadata": {},
      "source": [
        "Dataset contents from a CSV file\n",
        "Row indexes are also shown, all of which start with 0 (zero). The general statistical output can be obtained by using the describe() function:"
      ]
    },
    {
      "cell_type": "code",
      "metadata": {},
      "source": [
        "print(dataSet.describe()) \n",
        "#print(dataSet.describe('price') will only generate values for column price\n",
        "  \n",
        "# %%\n",
        "'''\n",
        "As we can see, by default, describe() selects the columns that are applicable to statistical functions and returns calculations with the following functions:\n",
        "\n",
        "- count: Number of rows\n",
        "\n",
        "- mean: Average value for the related column\n",
        "\n",
        "- min: Minimum value found\n",
        "\n",
        "- max: Maximum value found\n",
        "\n",
        "- std: Calculated standard deviation\n",
        "\n",
        "- 25%: Returns the 25th percentile\n",
        "\n",
        "- 50%: Returns the 50th percentile\n",
        "\n",
        "- 75%: Returns the 75th percentile\n",
        "\n",
        "In the following code, we are selecting an individual column called Price as price_group. All of the columns from the dataset can be listed using dataSet.columns. Multiple columns can be selected by using the following dataSet[['Price','Rating']] format:\n",
        "'''"
      ],
      "outputs": [],
      "execution_count": null
    },
    {
      "cell_type": "code",
      "metadata": {},
      "source": [
        "print(dataSet.columns)\n",
        "\n",
        "print(sum(dataSet['Price']))\n",
        "\n",
        "print(sum(dataSet['Rating']))\n",
        "print(dataSet['Price'][0:5])"
      ],
      "outputs": [],
      "execution_count": null
    },
    {
      "cell_type": "markdown",
      "metadata": {},
      "source": [
        "The following code shows the individual data for the Price column:"
      ]
    },
    {
      "cell_type": "code",
      "metadata": {},
      "source": [
        "#dataSet[['Price','Rating']] will select both column\n",
        "price_group = dataSet[['Price']] #selecting 'Price' column only.\n",
        "print(price_group) \n"
      ],
      "outputs": [],
      "execution_count": null
    },
    {
      "cell_type": "markdown",
      "metadata": {},
      "source": [
        "pandas DataFrames also accept conditions or filtering actions being used on columns. As you can see, the filter is applied to Rating for values that are >=4.0, and only Title and Price are going to be returned:"
      ]
    },
    {
      "cell_type": "code",
      "metadata": {},
      "source": [
        "print(dataSet[dataSet['Rating']>=4.0][['Title','Price']])"
      ],
      "outputs": [],
      "execution_count": null
    },
    {
      "cell_type": "markdown",
      "metadata": {},
      "source": [
        "Similarly, string-based filters can also be applied. Stock, which contains the Out text, is filtered, and the output returns all the columns that satisfy the Out text. The contains() function accepts regular expressions and strings:"
      ]
    },
    {
      "cell_type": "code",
      "metadata": {},
      "source": [
        "print(dataSet[dataSet.Stock.str.contains(r'Out')])\n"
      ],
      "outputs": [],
      "execution_count": null
    },
    {
      "cell_type": "code",
      "metadata": {},
      "source": [
        "print(dataSet[dataSet.Rating.between(3.5,4.5)]['Title'])"
      ],
      "outputs": [],
      "execution_count": null
    },
    {
      "cell_type": "markdown",
      "metadata": {},
      "source": [
        "Since we have the price_group data, we can call the plot() function on the data with the help of the show() function:"
      ]
    },
    {
      "cell_type": "code",
      "metadata": {},
      "source": [
        "bar_plot = price_group.plot()  #default plot\n",
        "bar_plot.set_xlabel(\"No of Books\") #set X axis: label\n",
        "bar_plot.set_ylabel(\"Price\") #set Y axis: label\n",
        "plt.show() #displays the plot or chart created"
      ],
      "outputs": [],
      "execution_count": null
    },
    {
      "cell_type": "markdown",
      "metadata": {},
      "source": [
        "We can also change the kind of chart, that is, line, bar, and more.\n",
        "\n",
        "In the following code, kind='bar' overwrites the default line type:"
      ]
    },
    {
      "cell_type": "code",
      "metadata": {},
      "source": [
        "bar_plot = price_group.plot(kind='bar') #kind='bar'\n",
        "bar_plot.set_xlabel(\"No of Books\")  #Label for X-Axis\n",
        "bar_plot.set_ylabel(\"Price\") #label for Y-Axis\n",
        "plt.show() "
      ],
      "outputs": [],
      "execution_count": null
    },
    {
      "cell_type": "markdown",
      "metadata": {},
      "source": [
        "So far, we have used a basic chart type with a single column. In the following code, we are plotting a bar chart with the Price and Rating values:"
      ]
    },
    {
      "cell_type": "code",
      "metadata": {},
      "source": [
        "price_group = dataSet[['Price','Rating']]  #obtain both columns\n",
        "#title: generates a title for plot\n",
        "bar_plot = price_group.plot(kind='bar',title=\"Book Price ad Rating\")\n",
        "bar_plot.set_xlabel(\"No of Books\")\n",
        "bar_plot.set_ylabel(\"Price\")\n",
        "plt.show()"
      ],
      "outputs": [],
      "execution_count": null
    },
    {
      "cell_type": "markdown",
      "metadata": {},
      "source": [
        "Bar chart with Price and Rating columns\n",
        "\n",
        "So far, we have successfully plotted line and bar charts. The following code plots a pie chart for the first six items from the Price column and labels them with the first six Title available from dataSet:"
      ]
    },
    {
      "cell_type": "code",
      "metadata": {},
      "source": [
        "prices = dataSet['Price'][0:6] #Price from first 6 items\n",
        "labels = dataSet['Title'][0:6] #Book Titles from first 6 items\n",
        "legends,ax1 = plt.pie(prices, labels=labels, shadow=True, startangle=45)\n",
        "plt.legend(legends, prices, loc=\"best\")\n",
        "plt.show() "
      ],
      "outputs": [],
      "execution_count": null
    },
    {
      "cell_type": "markdown",
      "metadata": {},
      "source": [
        "The values from Price are used as legends. In this section, we have displayed the basic features that are available from both libraries."
      ]
    }
  ],
  "metadata": {
    "anaconda-cloud": {},
    "kernelspec": {
      "display_name": "Python 3",
      "language": "python",
      "name": "python3"
    },
    "language_info": {
      "codemirror_mode": {
        "name": "ipython",
        "version": 3
      },
      "file_extension": ".py",
      "mimetype": "text/x-python",
      "name": "python",
      "nbconvert_exporter": "python",
      "pygments_lexer": "ipython3",
      "version": "3.6.1"
    }
  },
  "nbformat": 4,
  "nbformat_minor": 1
}