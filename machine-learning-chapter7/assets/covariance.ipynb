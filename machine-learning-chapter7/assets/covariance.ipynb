{
  "nbformat_minor": 1, 
  "nbformat": 4, 
  "cells": [
    {
      "source": [
        "Below is a function named mean() that calculates the mean for a list of numbers.\n", 
        "'''\n", 
        "\n", 
        "# Calculate the mean value of a list of numbers\n", 
        "def mean(values):\n", 
        "\treturn sum(values) / float(len(values))"
      ], 
      "cell_type": "markdown", 
      "metadata": {}
    }, 
    {
      "source": [
        "Below is a function named covariance() that calculates the covariance for a list of numbers.\n", 
        "'''\n", 
        "\n", 
        "# Calculate covariance between x and y\n", 
        "def covariance(x, mean_x, y, mean_y):\n", 
        "\tcovar = 0.0\n", 
        "\tfor i in range(len(x)):\n", 
        "\t\tcovar += (x[i] - mean_x) * (y[i] - mean_y)\n", 
        "\treturn covar"
      ], 
      "cell_type": "markdown", 
      "metadata": {}
    }, 
    {
      "source": [
        "# Example of Calculating Covariance\n", 
        "dataset = [[1, 1], [2, 3], [4, 3], [3, 2], [5, 5]]\n", 
        "x = [row[0] for row in dataset]\n", 
        "y = [row[1] for row in dataset]\n", 
        "mean_x, mean_y = mean(x), mean(y)\n", 
        "covar = covariance(x, mean_x, y, mean_y)\n", 
        "print('Covariance: %.3f' % (covar))"
      ], 
      "cell_type": "code", 
      "execution_count": null, 
      "outputs": [], 
      "metadata": {}
    }
  ], 
  "metadata": {
    "kernelspec": {
      "display_name": "Python 3", 
      "name": "python3", 
      "language": "python"
    }, 
    "language_info": {
      "mimetype": "text/x-python", 
      "nbconvert_exporter": "python", 
      "name": "python", 
      "file_extension": ".py", 
      "version": "3.6.1", 
      "pygments_lexer": "ipython3", 
      "codemirror_mode": {
        "version": 3, 
        "name": "ipython"
      }
    }, 
    "anaconda-cloud": {}
  }
}