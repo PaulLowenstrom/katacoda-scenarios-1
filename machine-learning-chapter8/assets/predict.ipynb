{
  "nbformat_minor": 1, 
  "nbformat": 4, 
  "cells": [
    {
      "source": [
        "## Making Predictions\n", 
        "The first step is to develop a function that can make predictions. This will be needed both\n", 
        "in the evaluation of candidate coefficient values in stochastic gradient descent and after the\n", 
        "model is finalized and we wish to start making predictions on test data or new data. <br />\n", 
        "Below is a function named predict() that predicts an output value for a row given a set of coefficients.\n", 
        "The first coefficient in is always the intercept, also called the bias or b0 as it is standalone and\n", 
        "not responsible for a specific input value.\n", 
        "'''\n", 
        "\n", 
        "\n", 
        "# Example of making a prediction with coefficients"
      ], 
      "cell_type": "markdown", 
      "metadata": {}
    }, 
    {
      "source": [
        "# Make a prediction\n", 
        "def predict(row, coefficients):\n", 
        "\tyhat = coefficients[0]\n", 
        "\tfor i in range(len(row)-1):\n", 
        "\t\tyhat += coefficients[i + 1] * row[i]\n", 
        "\treturn yhat\n", 
        "\n", 
        "dataset = [[1, 1], [2, 3], [4, 3], [3, 2], [5, 5]]\n", 
        "coef = [0.4, 0.8]\n", 
        "for row in dataset:\n", 
        "\tyhat = predict(row, coef)\n", 
        "\tprint(\"Expected=%.3f, Predicted=%.3f\" % (row[-1], yhat))"
      ], 
      "cell_type": "code", 
      "execution_count": null, 
      "outputs": [], 
      "metadata": {}
    }
  ], 
  "metadata": {
    "kernelspec": {
      "display_name": "Python 3", 
      "name": "python3", 
      "language": "python"
    }, 
    "language_info": {
      "mimetype": "text/x-python", 
      "nbconvert_exporter": "python", 
      "name": "python", 
      "file_extension": ".py", 
      "version": "3.6.1", 
      "pygments_lexer": "ipython3", 
      "codemirror_mode": {
        "version": 3, 
        "name": "ipython"
      }
    }, 
    "anaconda-cloud": {}
  }
}