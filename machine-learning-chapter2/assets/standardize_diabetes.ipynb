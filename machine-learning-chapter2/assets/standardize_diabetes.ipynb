{
  "nbformat_minor": 1, 
  "nbformat": 4, 
  "cells": [
    {
      "source": [
        "# Standardize the Diabetes Dataset\n", 
        "from csv import reader\n", 
        "from math import sqrt\n", 
        "\n", 
        "# Load a CSV file\n", 
        "def load_csv(filename):\n", 
        "\tdataset = list()\n", 
        "\twith open(filename, 'r') as file:\n", 
        "\t\tcsv_reader = reader(file)\n", 
        "\t\tfor row in csv_reader:\n", 
        "\t\t\tif not row:\n", 
        "\t\t\t\tcontinue\n", 
        "\t\t\tdataset.append(row)\n", 
        "\treturn dataset\n", 
        "\n", 
        "# Convert string column to float\n", 
        "def str_column_to_float(dataset, column):\n", 
        "\tfor row in dataset:\n", 
        "\t\trow[column] = float(row[column].strip())\n"
      ], 
      "cell_type": "code", 
      "execution_count": null, 
      "outputs": [], 
      "metadata": {}
    }, 
    {
      "source": [
        "Standardize Data\n", 
        "Standardization is a rescaling technique that refers to centering the distribution of the data on\n", 
        "the value 0 and the standard deviation to the value 1. Together, the mean and the standard\n", 
        "deviation can be used to summarize a normal distribution, also called the Gaussian distribution\n", 
        "or bell curve."
      ], 
      "cell_type": "markdown", 
      "metadata": {}
    }, 
    {
      "source": [
        "Let\u2019s start with creating functions to estimate the mean and standard deviation statistics for each column from a dataset. The mean describes\n", 
        "the middle or central tendency for a collection of numbers. The mean for a column is calculated\n", 
        "as the sum of all values for a column divided by the total number of values.\n", 
        "\n", 
        "The function below named column means() calculates the mean values for each column in\n", 
        "the dataset\n", 
        "'''\n", 
        "# calculate column means\n", 
        "def column_means(dataset):\n", 
        "\tmeans = [0 for i in range(len(dataset[0]))]\n", 
        "\tfor i in range(len(dataset[0])):\n", 
        "\t\tcol_values = [row[i] for row in dataset]\n", 
        "\t\tmeans[i] = sum(col_values) / float(len(dataset))\n", 
        "\treturn means\n", 
        "\n", 
        "'''\n", 
        "The function below named column stdevs() calculates the standard deviation of values for\n", 
        "each column in the dataset and assumes the means have already been calculated\n", 
        "'''\n", 
        "# calculate column standard deviations\n", 
        "def column_stdevs(dataset, means):\n", 
        "\tstdevs = [0 for i in range(len(dataset[0]))]\n", 
        "\tfor i in range(len(dataset[0])):\n", 
        "\t\tvariance = [pow(row[i]-means[i], 2) for row in dataset]\n", 
        "\t\tstdevs[i] = sum(variance)\n", 
        "\tstdevs = [sqrt(x/(float(len(dataset)-1))) for x in stdevs]\n", 
        "\treturn stdevs"
      ], 
      "cell_type": "markdown", 
      "metadata": {}
    }, 
    {
      "source": [
        "Once the summary statistics are calculated, we can easily standardize the values in each\n", 
        "column. The calculation to standardize a given value is as follows:\n", 
        "Below is a function named standardize dataset() that implements this equation"
      ], 
      "cell_type": "markdown", 
      "metadata": {}
    }, 
    {
      "source": [
        "# standardize dataset\n", 
        "def standardize_dataset(dataset, means, stdevs):\n", 
        "\tfor row in dataset:\n", 
        "\t\tfor i in range(len(row)):\n", 
        "\t\t\trow[i] = (row[i] - means[i]) / stdevs[i]\n"
      ], 
      "cell_type": "code", 
      "execution_count": null, 
      "outputs": [], 
      "metadata": {}
    }, 
    {
      "source": [
        "Running the example prints the first row of the dataset, first in a raw format as loaded, and\n", 
        "then standardized which allows us to see the difference for comparison.\n", 
        "'''\n", 
        "# Load pima-indians-diabetes dataset\n", 
        "filename = 'pima-indians-diabetes.csv'\n", 
        "dataset = load_csv(filename)\n", 
        "print('Loaded data file {0} with {1} rows and {2} columns'.format(filename, len(dataset), len(dataset[0])))\n", 
        "# convert string columns to float\n", 
        "for i in range(len(dataset[0])):\n", 
        "\tstr_column_to_float(dataset, i)\n", 
        "print(dataset[0])\n", 
        "# Estimate mean and standard deviation\n", 
        "means = column_means(dataset)\n", 
        "stdevs = column_stdevs(dataset, means)\n", 
        "# standardize dataset\n", 
        "standardize_dataset(dataset, means, stdevs)\n", 
        "print(dataset[0])"
      ], 
      "cell_type": "markdown", 
      "metadata": {}
    }
  ], 
  "metadata": {
    "kernelspec": {
      "display_name": "Python 3", 
      "name": "python3", 
      "language": "python"
    }, 
    "language_info": {
      "mimetype": "text/x-python", 
      "nbconvert_exporter": "python", 
      "name": "python", 
      "file_extension": ".py", 
      "version": "3.6.1", 
      "pygments_lexer": "ipython3", 
      "codemirror_mode": {
        "version": 3, 
        "name": "ipython"
      }
    }, 
    "anaconda-cloud": {}
  }
}